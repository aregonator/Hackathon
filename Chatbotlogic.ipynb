{
 "cells": [
  {
   "cell_type": "code",
   "execution_count": 0,
   "metadata": {
    "application/vnd.databricks.v1+cell": {
     "cellMetadata": {
      "byteLimit": 2048000,
      "rowLimit": 10000
     },
     "inputWidgets": {},
     "nuid": "4bda1fec-07d3-4e4f-9d7e-cbe4f591fa38",
     "showTitle": false,
     "title": ""
    }
   },
   "outputs": [
    {
     "output_type": "stream",
     "name": "stdout",
     "output_type": "stream",
     "text": [
      "\u001B[43mNote: you may need to restart the kernel using %restart_python or dbutils.library.restartPython() to use updated packages.\u001B[0m\nRequirement already satisfied: databricks-genai-inference in /local_disk0/.ephemeral_nfs/envs/pythonEnv-486770b8-c26e-4b2b-bc26-ffa551681d47/lib/python3.10/site-packages (0.2.3)\nRequirement already satisfied: pyyaml>=5.4.1 in /local_disk0/.ephemeral_nfs/envs/pythonEnv-486770b8-c26e-4b2b-bc26-ffa551681d47/lib/python3.10/site-packages (from databricks-genai-inference) (6.0.1)\nRequirement already satisfied: pydantic>=2.4.2 in /local_disk0/.ephemeral_nfs/envs/pythonEnv-486770b8-c26e-4b2b-bc26-ffa551681d47/lib/python3.10/site-packages (from databricks-genai-inference) (2.7.3)\nRequirement already satisfied: tenacity==8.2.3 in /local_disk0/.ephemeral_nfs/envs/pythonEnv-486770b8-c26e-4b2b-bc26-ffa551681d47/lib/python3.10/site-packages (from databricks-genai-inference) (8.2.3)\nRequirement already satisfied: databricks-sdk==0.19.1 in /local_disk0/.ephemeral_nfs/envs/pythonEnv-486770b8-c26e-4b2b-bc26-ffa551681d47/lib/python3.10/site-packages (from databricks-genai-inference) (0.19.1)\nRequirement already satisfied: httpx<1,>=0.23.0 in /local_disk0/.ephemeral_nfs/envs/pythonEnv-486770b8-c26e-4b2b-bc26-ffa551681d47/lib/python3.10/site-packages (from databricks-genai-inference) (0.27.0)\nRequirement already satisfied: requests<3,>=2.26.0 in /local_disk0/.ephemeral_nfs/envs/pythonEnv-486770b8-c26e-4b2b-bc26-ffa551681d47/lib/python3.10/site-packages (from databricks-genai-inference) (2.32.3)\nRequirement already satisfied: typing-extensions>=4.7.1 in /local_disk0/.ephemeral_nfs/envs/pythonEnv-486770b8-c26e-4b2b-bc26-ffa551681d47/lib/python3.10/site-packages (from databricks-genai-inference) (4.12.2)\nRequirement already satisfied: google-auth~=2.0 in /databricks/python3/lib/python3.10/site-packages (from databricks-sdk==0.19.1->databricks-genai-inference) (2.28.1)\nRequirement already satisfied: sniffio in /databricks/python3/lib/python3.10/site-packages (from httpx<1,>=0.23.0->databricks-genai-inference) (1.2.0)\nRequirement already satisfied: anyio in /databricks/python3/lib/python3.10/site-packages (from httpx<1,>=0.23.0->databricks-genai-inference) (3.5.0)\nRequirement already satisfied: idna in /local_disk0/.ephemeral_nfs/envs/pythonEnv-486770b8-c26e-4b2b-bc26-ffa551681d47/lib/python3.10/site-packages (from httpx<1,>=0.23.0->databricks-genai-inference) (3.7)\nRequirement already satisfied: certifi in /local_disk0/.ephemeral_nfs/envs/pythonEnv-486770b8-c26e-4b2b-bc26-ffa551681d47/lib/python3.10/site-packages (from httpx<1,>=0.23.0->databricks-genai-inference) (2024.6.2)\nRequirement already satisfied: httpcore==1.* in /local_disk0/.ephemeral_nfs/envs/pythonEnv-486770b8-c26e-4b2b-bc26-ffa551681d47/lib/python3.10/site-packages (from httpx<1,>=0.23.0->databricks-genai-inference) (1.0.5)\nRequirement already satisfied: h11<0.15,>=0.13 in /local_disk0/.ephemeral_nfs/envs/pythonEnv-486770b8-c26e-4b2b-bc26-ffa551681d47/lib/python3.10/site-packages (from httpcore==1.*->httpx<1,>=0.23.0->databricks-genai-inference) (0.14.0)\nRequirement already satisfied: annotated-types>=0.4.0 in /local_disk0/.ephemeral_nfs/envs/pythonEnv-486770b8-c26e-4b2b-bc26-ffa551681d47/lib/python3.10/site-packages (from pydantic>=2.4.2->databricks-genai-inference) (0.7.0)\nRequirement already satisfied: pydantic-core==2.18.4 in /local_disk0/.ephemeral_nfs/envs/pythonEnv-486770b8-c26e-4b2b-bc26-ffa551681d47/lib/python3.10/site-packages (from pydantic>=2.4.2->databricks-genai-inference) (2.18.4)\nRequirement already satisfied: charset-normalizer<4,>=2 in /local_disk0/.ephemeral_nfs/envs/pythonEnv-486770b8-c26e-4b2b-bc26-ffa551681d47/lib/python3.10/site-packages (from requests<3,>=2.26.0->databricks-genai-inference) (3.3.2)\nRequirement already satisfied: urllib3<3,>=1.21.1 in /local_disk0/.ephemeral_nfs/envs/pythonEnv-486770b8-c26e-4b2b-bc26-ffa551681d47/lib/python3.10/site-packages (from requests<3,>=2.26.0->databricks-genai-inference) (2.2.1)\nRequirement already satisfied: cachetools<6.0,>=2.0.0 in /local_disk0/.ephemeral_nfs/envs/pythonEnv-486770b8-c26e-4b2b-bc26-ffa551681d47/lib/python3.10/site-packages (from google-auth~=2.0->databricks-sdk==0.19.1->databricks-genai-inference) (5.3.3)\nRequirement already satisfied: pyasn1-modules>=0.2.1 in /databricks/python3/lib/python3.10/site-packages (from google-auth~=2.0->databricks-sdk==0.19.1->databricks-genai-inference) (0.3.0)\nRequirement already satisfied: rsa<5,>=3.1.4 in /databricks/python3/lib/python3.10/site-packages (from google-auth~=2.0->databricks-sdk==0.19.1->databricks-genai-inference) (4.9)\nRequirement already satisfied: pyasn1<0.6.0,>=0.4.6 in /databricks/python3/lib/python3.10/site-packages (from pyasn1-modules>=0.2.1->google-auth~=2.0->databricks-sdk==0.19.1->databricks-genai-inference) (0.5.1)\n\u001B[43mNote: you may need to restart the kernel using %restart_python or dbutils.library.restartPython() to use updated packages.\u001B[0m\n"
     ]
    }
   ],
   "source": [
    " \n",
    " %pip install databricks-genai-inference\n",
    " %pip install --upgrade --force-reinstall databricks-vectorsearch\n",
    "dbutils.library.restartPython()\n"
   ]
  },
  {
   "cell_type": "code",
   "execution_count": 0,
   "metadata": {
    "application/vnd.databricks.v1+cell": {
     "cellMetadata": {
      "byteLimit": 2048000,
      "rowLimit": 10000
     },
     "inputWidgets": {},
     "nuid": "0d30a31a-cb0f-4ee0-aa3b-a4163eb30f20",
     "showTitle": false,
     "title": ""
    }
   },
   "outputs": [
    {
     "output_type": "stream",
     "name": "stdout",
     "output_type": "stream",
     "text": [
      "response.message:Databricks is indeed a cool platform, and I'm happy to share why!\n\nDatabricks is a fast-growing, popular, and widely-used platform for working with big data and data engineering. Here are some reasons why Databricks is considered cool:\n\n1. **Unified Analytics Platform**: Databricks provides a unified platform for data engineering, data science, and data analytics. It integrates Apache Spark, Delta Lake, and other open-source technologies to enable fast, scalable, and secure data processing.\n\n2. **Apache Spark Native**: Databricks is built on top of Apache Spark, which is an open-source, in-memory computing engine. This allows Databricks to leverage Spark's speed, scalability, and flexibility for big data processing.\n\n3. **Delta Lake**:\n"
     ]
    }
   ],
   "source": [
    "from databricks_genai_inference import ChatCompletion\n",
    "\n",
    "\n",
    "response = ChatCompletion.create(model=\"databricks-meta-llama-3-70b-instruct\",\n",
    "                                messages=[{\"role\": \"system\", \"content\": \"You are a helpful assistant.\"},\n",
    "                                          {\"role\": \"user\",\"content\": \"Why is Databricks cool?\"}],\n",
    "                                max_tokens=156)\n",
    "print(f\"response.message:{response.message}\")\n"
   ]
  },
  {
   "cell_type": "code",
   "execution_count": 0,
   "metadata": {
    "application/vnd.databricks.v1+cell": {
     "cellMetadata": {
      "byteLimit": 2048000,
      "implicitDf": true,
      "rowLimit": 10000
     },
     "inputWidgets": {},
     "nuid": "8826df97-fe2d-41f7-8d58-fa8706ba893e",
     "showTitle": false,
     "title": ""
    }
   },
   "outputs": [],
   "source": [
    "%sql\n",
    "CREATE\n",
    "OR REPLACE TABLE workspace.ragtesting.offerings2 (\n",
    "  id BIGINT Generated ALWAYS AS IDENTITY,\n",
    "  offer STRING\n",
    ")"
   ]
  },
  {
   "cell_type": "code",
   "execution_count": 0,
   "metadata": {
    "application/vnd.databricks.v1+cell": {
     "cellMetadata": {
      "byteLimit": 2048000,
      "implicitDf": true,
      "rowLimit": 10000
     },
     "inputWidgets": {},
     "nuid": "cfe1ab34-8a43-4b7c-956a-b7a5775be747",
     "showTitle": false,
     "title": ""
    }
   },
   "outputs": [],
   "source": [
    "%sql\n",
    "ALTER TABLE\n",
    "  `workspace`.`ragtesting`.`offerings2`\n",
    "SET\n",
    "  TBLPROPERTIES (delta.enableChangeDataFeed = true)"
   ]
  },
  {
   "cell_type": "code",
   "execution_count": 0,
   "metadata": {
    "application/vnd.databricks.v1+cell": {
     "cellMetadata": {
      "byteLimit": 2048000,
      "implicitDf": true,
      "rowLimit": 10000
     },
     "inputWidgets": {},
     "nuid": "78a91508-115b-454e-9c3b-f11d32e3fa46",
     "showTitle": false,
     "title": ""
    }
   },
   "outputs": [
    {
     "output_type": "display_data",
     "data": {
      "text/html": [
       "<style scoped>\n",
       "  .table-result-container {\n",
       "    max-height: 300px;\n",
       "    overflow: auto;\n",
       "  }\n",
       "  table, th, td {\n",
       "    border: 1px solid black;\n",
       "    border-collapse: collapse;\n",
       "  }\n",
       "  th, td {\n",
       "    padding: 5px;\n",
       "  }\n",
       "  th {\n",
       "    text-align: left;\n",
       "  }\n",
       "</style><div class='table-result-container'><table class='table-result'><thead style='background-color: white'><tr><th>id</th><th>response</th></tr></thead><tbody></tbody></table></div>"
      ]
     },
     "metadata": {
      "application/vnd.databricks.v1+output": {
       "addedWidgets": {},
       "aggData": [],
       "aggError": "",
       "aggOverflow": false,
       "aggSchema": [],
       "aggSeriesLimitReached": false,
       "aggType": "",
       "arguments": {},
       "columnCustomDisplayInfos": {},
       "data": [],
       "datasetInfos": [
        {
         "name": "_sqldf",
         "schema": {
          "fields": [
           {
            "metadata": {},
            "name": "id",
            "nullable": true,
            "type": "long"
           },
           {
            "metadata": {},
            "name": "response",
            "nullable": true,
            "type": "string"
           }
          ],
          "type": "struct"
         },
         "tableIdentifier": null,
         "typeStr": "pyspark.sql.connect.dataframe.DataFrame"
        }
       ],
       "dbfsResultPath": null,
       "isJsonSchema": true,
       "metadata": {
        "dataframeName": "_sqldf",
        "executionCount": 34
       },
       "overflow": false,
       "plotOptions": {
        "customPlotOptions": {},
        "displayType": "table",
        "pivotAggregation": null,
        "pivotColumns": null,
        "xColumns": null,
        "yColumns": null
       },
       "removedWidgets": [],
       "schema": [
        {
         "metadata": "{}",
         "name": "id",
         "type": "\"long\""
        },
        {
         "metadata": "{}",
         "name": "response",
         "type": "\"string\""
        }
       ],
       "type": "table"
      }
     },
     "output_type": "display_data"
    }
   ],
   "source": [
    "%sql \n",
    "select * from workspace.ragtesting.offerings2"
   ]
  },
  {
   "cell_type": "code",
   "execution_count": 0,
   "metadata": {
    "application/vnd.databricks.v1+cell": {
     "cellMetadata": {
      "byteLimit": 2048000,
      "rowLimit": 10000
     },
     "inputWidgets": {},
     "nuid": "8d3b41ad-5d8e-4bfe-8b33-75d9af26b792",
     "showTitle": false,
     "title": ""
    }
   },
   "outputs": [],
   "source": [
    "# Save the response to the ragtesting schema into a table called offerings\n",
    "offers_df = spark.createDataFrame([\n",
    "    {\"offer\": \"I want to offer a used children's bike to collect at Berkeley. It is 4 years old and the price is $70.\"},\n",
    "    {\"offer\": \"I would like to sell my golfing equipment. A full set of clubs including a bag for just $300. Quality is almost as new. Collectable in the East Bay Area.\"},\n",
    "    {\"offer\": \"I will paint your house for just $15/hour. I'm located in San Fran and available Mon-Thur.\"},\n",
    "    {\"offer\": \"Used refrigerator for sale. Only $30.\"}\n",
    "])\n",
    "offers_df.write.format(\"delta\").mode(\"append\").option(\"mergeSchema\", \"true\").saveAsTable(\"ragtesting.offerings2\")"
   ]
  },
  {
   "cell_type": "code",
   "execution_count": 0,
   "metadata": {
    "application/vnd.databricks.v1+cell": {
     "cellMetadata": {
      "byteLimit": 2048000,
      "implicitDf": true,
      "rowLimit": 10000
     },
     "inputWidgets": {},
     "nuid": "9595972b-8afa-4418-9930-725b4469b491",
     "showTitle": false,
     "title": ""
    }
   },
   "outputs": [
    {
     "output_type": "display_data",
     "data": {
      "text/html": [
       "<style scoped>\n",
       "  .table-result-container {\n",
       "    max-height: 300px;\n",
       "    overflow: auto;\n",
       "  }\n",
       "  table, th, td {\n",
       "    border: 1px solid black;\n",
       "    border-collapse: collapse;\n",
       "  }\n",
       "  th, td {\n",
       "    padding: 5px;\n",
       "  }\n",
       "  th {\n",
       "    text-align: left;\n",
       "  }\n",
       "</style><div class='table-result-container'><table class='table-result'><thead style='background-color: white'><tr><th>id</th><th>offer</th></tr></thead><tbody><tr><td>1</td><td>I want to offer a used children's bike to collect at Berkeley. It is 4 years old and the price is $70.</td></tr><tr><td>2</td><td>I would like to sell my golfing equipment. A full set of clubs including a bag for just $300. Quality is almost as new. Collectable in the East Bay Area.</td></tr><tr><td>3</td><td>I will paint your house for just $15/hour. I'm located in San Fran and available Mon-Thur.</td></tr><tr><td>4</td><td>Used refrigerator for sale. Only $30.</td></tr></tbody></table></div>"
      ]
     },
     "metadata": {
      "application/vnd.databricks.v1+output": {
       "addedWidgets": {},
       "aggData": [],
       "aggError": "",
       "aggOverflow": false,
       "aggSchema": [],
       "aggSeriesLimitReached": false,
       "aggType": "",
       "arguments": {},
       "columnCustomDisplayInfos": {},
       "data": [
        [
         1,
         "I want to offer a used children's bike to collect at Berkeley. It is 4 years old and the price is $70."
        ],
        [
         2,
         "I would like to sell my golfing equipment. A full set of clubs including a bag for just $300. Quality is almost as new. Collectable in the East Bay Area."
        ],
        [
         3,
         "I will paint your house for just $15/hour. I'm located in San Fran and available Mon-Thur."
        ],
        [
         4,
         "Used refrigerator for sale. Only $30."
        ]
       ],
       "datasetInfos": [
        {
         "name": "_sqldf",
         "schema": {
          "fields": [
           {
            "metadata": {},
            "name": "id",
            "nullable": true,
            "type": "long"
           },
           {
            "metadata": {},
            "name": "offer",
            "nullable": true,
            "type": "string"
           }
          ],
          "type": "struct"
         },
         "tableIdentifier": null,
         "typeStr": "pyspark.sql.connect.dataframe.DataFrame"
        }
       ],
       "dbfsResultPath": null,
       "isJsonSchema": true,
       "metadata": {
        "dataframeName": "_sqldf",
        "executionCount": 154
       },
       "overflow": false,
       "plotOptions": {
        "customPlotOptions": {},
        "displayType": "table",
        "pivotAggregation": null,
        "pivotColumns": null,
        "xColumns": null,
        "yColumns": null
       },
       "removedWidgets": [],
       "schema": [
        {
         "metadata": "{}",
         "name": "id",
         "type": "\"long\""
        },
        {
         "metadata": "{}",
         "name": "offer",
         "type": "\"string\""
        }
       ],
       "type": "table"
      }
     },
     "output_type": "display_data"
    }
   ],
   "source": [
    "%sql\n",
    "select * from workspace.ragtesting.offerings2"
   ]
  },
  {
   "cell_type": "code",
   "execution_count": 0,
   "metadata": {
    "application/vnd.databricks.v1+cell": {
     "cellMetadata": {
      "byteLimit": 2048000,
      "rowLimit": 10000
     },
     "inputWidgets": {},
     "nuid": "ef01d165-7f27-4e18-96c6-1c5215aef8a6",
     "showTitle": false,
     "title": ""
    }
   },
   "outputs": [],
   "source": [
    "from databricks.vector_search.client import VectorSearchClient\n",
    "\n",
    "vsc = VectorSearchClient(disable_notice=True)"
   ]
  },
  {
   "cell_type": "code",
   "execution_count": 0,
   "metadata": {
    "application/vnd.databricks.v1+cell": {
     "cellMetadata": {
      "byteLimit": 2048000,
      "rowLimit": 10000
     },
     "inputWidgets": {},
     "nuid": "370132a4-5627-46de-83a9-af08d798c2fc",
     "showTitle": false,
     "title": ""
    }
   },
   "outputs": [],
   "source": [
    "catalog_name = \"workspace\"\n",
    "schema_name = \"ragtesting\""
   ]
  },
  {
   "cell_type": "code",
   "execution_count": 0,
   "metadata": {
    "application/vnd.databricks.v1+cell": {
     "cellMetadata": {
      "byteLimit": 2048000,
      "rowLimit": 10000
     },
     "inputWidgets": {},
     "nuid": "1b7c98bc-be42-41d6-b20a-4b1beaab4836",
     "showTitle": false,
     "title": ""
    }
   },
   "outputs": [],
   "source": [
    "source_table_name = \"offerings2\"\n",
    "source_table_fullname = f\"{catalog_name}.{schema_name}.{source_table_name}\""
   ]
  },
  {
   "cell_type": "code",
   "execution_count": 0,
   "metadata": {
    "application/vnd.databricks.v1+cell": {
     "cellMetadata": {
      "byteLimit": 2048000,
      "rowLimit": 10000
     },
     "inputWidgets": {},
     "nuid": "cf45ce4d-acd8-41eb-920c-fbb11fb264f6",
     "showTitle": false,
     "title": ""
    }
   },
   "outputs": [
    {
     "output_type": "stream",
     "name": "stdout",
     "output_type": "stream",
     "text": [
      "workspace.ragtesting.offerings2\n"
     ]
    }
   ],
   "source": [
    "print(source_table_fullname)\n"
   ]
  },
  {
   "cell_type": "markdown",
   "metadata": {
    "application/vnd.databricks.v1+cell": {
     "cellMetadata": {},
     "inputWidgets": {},
     "nuid": "9053d88a-2c34-41c9-bf8b-031dab551884",
     "showTitle": false,
     "title": ""
    }
   },
   "source": [
    "Create vector search endpoint\n"
   ]
  },
  {
   "cell_type": "code",
   "execution_count": 0,
   "metadata": {
    "application/vnd.databricks.v1+cell": {
     "cellMetadata": {
      "byteLimit": 2048000,
      "rowLimit": 10000
     },
     "inputWidgets": {},
     "nuid": "e4ae4e44-b9ea-4c70-a273-59083901d98a",
     "showTitle": false,
     "title": ""
    }
   },
   "outputs": [],
   "source": [
    "try:\n",
    "    vsc.create_endpoint(\n",
    "    name=vector_search_endpoint_name,\n",
    "    endpoint_type=\"STANDARD\"\n",
    "    )\n",
    "except Exception as e:\n",
    "  if \"already exists\" in str(e):\n",
    "    pass\n",
    "  else:\n",
    "    raise evector_search_endpoint_name = \"vector-search-demo-endpoint\""
   ]
  },
  {
   "cell_type": "code",
   "execution_count": 0,
   "metadata": {
    "application/vnd.databricks.v1+cell": {
     "cellMetadata": {
      "byteLimit": 2048000,
      "rowLimit": 10000
     },
     "inputWidgets": {},
     "nuid": "54bcead0-e02c-4521-af62-c5aa9c70454f",
     "showTitle": false,
     "title": ""
    }
   },
   "outputs": [],
   "source": [
    "# Vector index\n",
    "vs_index = f\"{source_table_name}_bge_index\"\n",
    "vs_index_fullname = f\"{catalog_name}.{schema_name}.{vs_index}\"\n",
    "\n",
    "embedding_model_endpoint = \"databricks-bge-large-en\""
   ]
  },
  {
   "cell_type": "code",
   "execution_count": 0,
   "metadata": {
    "application/vnd.databricks.v1+cell": {
     "cellMetadata": {
      "byteLimit": 2048000,
      "rowLimit": 10000
     },
     "inputWidgets": {},
     "nuid": "3b706d36-538e-43f0-91a1-12830dd1749c",
     "showTitle": false,
     "title": ""
    }
   },
   "outputs": [
    {
     "output_type": "execute_result",
     "data": {
      "text/plain": [
       "'Delta sync Index creation is pending. Check latest status: https://dbc-f520f423-7de6.cloud.databricks.com/explore/data/workspace/ragtesting/offerings2_bge_index'"
      ]
     },
     "execution_count": 160,
     "metadata": {},
     "output_type": "execute_result"
    }
   ],
   "source": [
    "index = vsc.create_delta_sync_index(\n",
    "  endpoint_name=vector_search_endpoint_name,\n",
    "  source_table_name=source_table_fullname,\n",
    "  index_name=vs_index_fullname,\n",
    "  pipeline_type='TRIGGERED',\n",
    "  primary_key=\"id\",\n",
    "  embedding_source_column=\"offer\",\n",
    "  embedding_model_endpoint_name=embedding_model_endpoint\n",
    ")\n",
    "index.describe()['status']['message']"
   ]
  },
  {
   "cell_type": "code",
   "execution_count": 0,
   "metadata": {
    "application/vnd.databricks.v1+cell": {
     "cellMetadata": {
      "byteLimit": 2048000,
      "rowLimit": 10000
     },
     "inputWidgets": {},
     "nuid": "da4a5931-4d94-4025-9c26-8dcc7ca0da49",
     "showTitle": false,
     "title": ""
    }
   },
   "outputs": [
    {
     "output_type": "execute_result",
     "data": {
      "text/plain": [
       "{'name': 'workspace.ragtesting.offerings2_bge_index',\n",
       " 'endpoint_name': 'vector-search-demo-endpoint',\n",
       " 'primary_key': 'id',\n",
       " 'index_type': 'DELTA_SYNC',\n",
       " 'delta_sync_index_spec': {'source_table': 'workspace.ragtesting.offerings2',\n",
       "  'embedding_source_columns': [{'name': 'offer',\n",
       "    'embedding_model_endpoint_name': 'databricks-bge-large-en'}],\n",
       "  'pipeline_type': 'TRIGGERED',\n",
       "  'pipeline_id': '0627195f-7c72-4c95-b0ad-ac0e0530a6ba'},\n",
       " 'status': {'detailed_state': 'ONLINE_NO_PENDING_UPDATE',\n",
       "  'message': 'Index creation succeeded. Check latest status: https://dbc-f520f423-7de6.cloud.databricks.com/explore/data/workspace/ragtesting/offerings2_bge_index',\n",
       "  'indexed_row_count': 4,\n",
       "  'triggered_update_status': {'last_processed_commit_version': 16,\n",
       "   'last_processed_commit_timestamp': '2024-06-10T21:33:52Z'},\n",
       "  'ready': True,\n",
       "  'index_url': 'dbc-f520f423-7de6.cloud.databricks.com/api/2.0/vector-search/endpoints/vector-search-demo-endpoint/indexes/workspace.ragtesting.offerings2_bge_index'},\n",
       " 'creator': 'vpuntanen@microsoft.com'}"
      ]
     },
     "execution_count": 168,
     "metadata": {},
     "output_type": "execute_result"
    }
   ],
   "source": [
    "index.describe()"
   ]
  },
  {
   "cell_type": "code",
   "execution_count": 0,
   "metadata": {
    "application/vnd.databricks.v1+cell": {
     "cellMetadata": {
      "byteLimit": 2048000,
      "rowLimit": 10000
     },
     "inputWidgets": {},
     "nuid": "3866ab4f-dfb1-4876-b19a-7db5a8bdb7c2",
     "showTitle": false,
     "title": ""
    }
   },
   "outputs": [],
   "source": [
    "def retrieve_offers(query_text):\n",
    "    all_columns = spark.table(source_table_fullname).columns\n",
    "\n",
    "    results = index.similarity_search(\n",
    "        query_text=query_text,\n",
    "        columns=all_columns,\n",
    "        num_results=2)\n",
    "    \n",
    "    results.update({'result': {'data_array': [result for result in results[\"result\"][\"data_array\"] if result[2] > 0.55]}})\n",
    "\n",
    "    return(results)"
   ]
  },
  {
   "cell_type": "code",
   "execution_count": 0,
   "metadata": {
    "application/vnd.databricks.v1+cell": {
     "cellMetadata": {
      "byteLimit": 2048000,
      "rowLimit": 10000
     },
     "inputWidgets": {},
     "nuid": "125dccd4-47e8-4dae-8154-3bdae86b6e60",
     "showTitle": false,
     "title": ""
    }
   },
   "outputs": [
    {
     "output_type": "execute_result",
     "data": {
      "text/plain": [
       "{'manifest': {'column_count': 3,\n",
       "  'columns': [{'name': 'id'}, {'name': 'offer'}, {'name': 'score'}]},\n",
       " 'result': {'data_array': [[1.0,\n",
       "    \"I want to offer a used children's bike to collect at Berkeley. It is 4 years old and the price is $70.\",\n",
       "    0.5873685],\n",
       "   [2.0,\n",
       "    'I would like to sell my golfing equipment. A full set of clubs including a bag for just $300. Quality is almost as new. Collectable in the East Bay Area.',\n",
       "    0.5516129]]},\n",
       " 'debug_info': {'response_time': 249.0,\n",
       "  'ann_time': 32.0,\n",
       "  'embedding_gen_time': 107.0}}"
      ]
     },
     "execution_count": 224,
     "metadata": {},
     "output_type": "execute_result"
    }
   ],
   "source": [
    "retrieve_offers(query_text=\"Berkeley\")"
   ]
  },
  {
   "cell_type": "code",
   "execution_count": 0,
   "metadata": {
    "application/vnd.databricks.v1+cell": {
     "cellMetadata": {
      "byteLimit": 2048000,
      "rowLimit": 10000
     },
     "inputWidgets": {},
     "nuid": "c5ed2192-2175-4577-93e5-f87db84b9dfe",
     "showTitle": false,
     "title": ""
    }
   },
   "outputs": [
    {
     "output_type": "execute_result",
     "data": {
      "text/plain": [
       "{'manifest': {'column_count': 3,\n",
       "  'columns': [{'name': 'id'}, {'name': 'offer'}, {'name': 'score'}]},\n",
       " 'result': {'data_array': [[4.0,\n",
       "    'Used refrigerator for sale. Only $30.',\n",
       "    0.52767265]]},\n",
       " 'debug_info': {'response_time': 247.0,\n",
       "  'ann_time': 35.0,\n",
       "  'embedding_gen_time': 76.0}}"
      ]
     },
     "execution_count": 194,
     "metadata": {},
     "output_type": "execute_result"
    }
   ],
   "source": [
    "results"
   ]
  }
 ],
 "metadata": {
  "application/vnd.databricks.v1+notebook": {
   "dashboards": [],
   "environmentMetadata": null,
   "language": "python",
   "notebookMetadata": {
    "mostRecentlyExecutedCommandWithImplicitDF": {
     "commandId": 3704230746354647,
     "dataframes": [
      "_sqldf"
     ]
    },
    "pythonIndentUnit": 4
   },
   "notebookName": "Chatbotlogic",
   "widgets": {}
  }
 },
 "nbformat": 4,
 "nbformat_minor": 0
}
