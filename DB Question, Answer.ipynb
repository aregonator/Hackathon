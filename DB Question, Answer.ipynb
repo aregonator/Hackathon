{
 "cells": [
  {
   "cell_type": "code",
   "execution_count": 0,
   "metadata": {
    "application/vnd.databricks.v1+cell": {
     "cellMetadata": {
      "byteLimit": 2048000,
      "rowLimit": 10000
     },
     "inputWidgets": {},
     "nuid": "83ec682f-1370-4c5f-8ca7-37db6faa3bd1",
     "showTitle": false,
     "title": ""
    }
   },
   "outputs": [],
   "source": [
    "from databricks.sdk.service.serving import ChatMessage\n",
    "from databricks.sdk import WorkspaceClient\n",
    "import pandas as pd"
   ]
  },
  {
   "cell_type": "code",
   "execution_count": 0,
   "metadata": {
    "application/vnd.databricks.v1+cell": {
     "cellMetadata": {
      "byteLimit": 2048000,
      "rowLimit": 10000
     },
     "inputWidgets": {},
     "nuid": "ca2ec7a8-7a1a-4f69-95f7-b6e450ac7b21",
     "showTitle": false,
     "title": ""
    }
   },
   "outputs": [],
   "source": [
    "w = WorkspaceClient()"
   ]
  },
  {
   "cell_type": "code",
   "execution_count": 0,
   "metadata": {
    "application/vnd.databricks.v1+cell": {
     "cellMetadata": {
      "byteLimit": 2048000,
      "rowLimit": 10000
     },
     "inputWidgets": {},
     "nuid": "ff413507-4845-4b8f-9411-290c2fe8b686",
     "showTitle": false,
     "title": ""
    }
   },
   "outputs": [],
   "source": [
    "def generate_sql_statement(text, tablename):\n",
    "    column_names = []\n",
    "    colNameDF = spark.sql(f\"select * from {tablename}\").limit(0)\n",
    "    column_namesStr = \", \".join(colNameDF.columns)\n",
    "    # Change it to your own input\n",
    "    messages = [\n",
    "        {\n",
    "        \"role\": \"user\",\n",
    "        \"content\": \"Hello!\"\n",
    "        },\n",
    "        {\n",
    "        \"role\": \"assistant\",\n",
    "        \"content\": \"Hello! How can I assist you today?\"\n",
    "        },\n",
    "        {\n",
    "        \"role\": \"user\",\n",
    "        \"content\": f\"Please construct sql query, in one line, using table {tablename} from statement: {text} given the columns: {column_namesStr}\"\n",
    "        }\n",
    "    ]\n",
    "    messages = [ChatMessage.from_dict(message) for message in messages]\n",
    "    response = w.serving_endpoints.query(\n",
    "        name=\"databricks-dbrx-instruct\",\n",
    "        messages=messages,\n",
    "    )\n",
    "    return response.as_dict()"
   ]
  },
  {
   "cell_type": "code",
   "execution_count": 0,
   "metadata": {
    "application/vnd.databricks.v1+cell": {
     "cellMetadata": {
      "byteLimit": 2048000,
      "rowLimit": 10000
     },
     "inputWidgets": {},
     "nuid": "1f52aece-0947-41b6-9461-a47381f00d3c",
     "showTitle": false,
     "title": ""
    }
   },
   "outputs": [
    {
     "output_type": "stream",
     "name": "stdout",
     "output_type": "stream",
     "text": [
      "{'choices': [{'index': 0, 'message': {'content': '```sql\\nSELECT DISTINCT region FROM workspace.default.vehicles_small_100 WHERE price < 4000;\\n```', 'role': 'assistant'}}], 'created': 1718052464, 'id': 'chatcmpl_e1030483-70c9-4fbb-991c-11e67ea36816', 'model': 'dbrx-instruct-032724', 'object': 'chat.completion', 'usage': {'completion_tokens': 22, 'prompt_tokens': 338, 'total_tokens': 360}}\n"
     ]
    }
   ],
   "source": [
    "response = generate_sql_statement(\"return distinct regions where price is less than 4000\", \"workspace.default.vehicles_small_100\")\n",
    "print(response)"
   ]
  },
  {
   "cell_type": "code",
   "execution_count": 0,
   "metadata": {
    "application/vnd.databricks.v1+cell": {
     "cellMetadata": {
      "byteLimit": 2048000,
      "rowLimit": 10000
     },
     "inputWidgets": {},
     "nuid": "f3123192-6876-4b32-a7b5-e65a64748b95",
     "showTitle": false,
     "title": ""
    }
   },
   "outputs": [],
   "source": [
    "def process_response(response):\n",
    "    msg = response[\"choices\"][0][\"message\"][\"content\"]\n",
    "    sql = \"\"\n",
    "    if \"SELECT\" in msg:\n",
    "        sql = msg[msg.find(\"SELECT\"):]\n",
    "        sql = sql.replace(';', \"\")\n",
    "        sql = sql.replace('\\n', \"\")\n",
    "        sql = sql.replace('`', \"\")\n",
    "    return sql"
   ]
  },
  {
   "cell_type": "code",
   "execution_count": 0,
   "metadata": {
    "application/vnd.databricks.v1+cell": {
     "cellMetadata": {
      "byteLimit": 2048000,
      "rowLimit": 10000
     },
     "inputWidgets": {},
     "nuid": "dde4fa10-8bc7-47a9-922d-ae08290c83a2",
     "showTitle": false,
     "title": ""
    }
   },
   "outputs": [],
   "source": [
    "sql = process_response(response)"
   ]
  },
  {
   "cell_type": "code",
   "execution_count": 0,
   "metadata": {
    "application/vnd.databricks.v1+cell": {
     "cellMetadata": {
      "byteLimit": 2048000,
      "rowLimit": 10000
     },
     "inputWidgets": {},
     "nuid": "028fd363-6b0e-4a1b-b917-6e380129ef86",
     "showTitle": false,
     "title": ""
    }
   },
   "outputs": [],
   "source": [
    "def describe_output(key_val_pairs):\n",
    "    messages = [\n",
    "        {\n",
    "        \"role\": \"user\",\n",
    "        \"content\": \"Hello!\"\n",
    "        },\n",
    "        {\n",
    "        \"role\": \"assistant\",\n",
    "        \"content\": \"Hello! How can I assist you today?\"\n",
    "        },\n",
    "        {\n",
    "        \"role\": \"user\",\n",
    "        \"content\": f\"Please convert the following key value pairs: {key_val_pairs} into a descriptive form in single quotes\"\n",
    "        }\n",
    "    ]\n",
    "    messages = [ChatMessage.from_dict(message) for message in messages]\n",
    "    response = w.serving_endpoints.query(\n",
    "        name=\"databricks-dbrx-instruct\",\n",
    "        messages=messages,\n",
    "    )\n",
    "    response_msg = response.as_dict()\n",
    "    output_msg = response_msg[\"choices\"][0][\"message\"][\"content\"]\n",
    "    #print(output_msg)\n",
    "    #output_msg = output_msg[output_msg.rfind(\":\"):].strip()\n",
    "    output_msg = output_msg.split(\"'\")[1]\n",
    "    output_msg = \"The following is the top found matching result: \" + output_msg\n",
    "    return output_msg"
   ]
  },
  {
   "cell_type": "code",
   "execution_count": 0,
   "metadata": {
    "application/vnd.databricks.v1+cell": {
     "cellMetadata": {
      "byteLimit": 2048000,
      "rowLimit": 10000
     },
     "inputWidgets": {},
     "nuid": "3308d03d-be10-4728-a76c-5f86b0e851cc",
     "showTitle": false,
     "title": ""
    }
   },
   "outputs": [],
   "source": [
    "def generate_explanation_from_sql(sql):\n",
    "    df = spark.sql(sql).toPandas()\n",
    "    df = df.head(1)\n",
    "    top_record = df.to_dict(orient='records')\n",
    "    #print(top_record)\n",
    "    return describe_output(top_record)\n"
   ]
  },
  {
   "cell_type": "code",
   "execution_count": 0,
   "metadata": {
    "application/vnd.databricks.v1+cell": {
     "cellMetadata": {
      "byteLimit": 2048000,
      "rowLimit": 10000
     },
     "inputWidgets": {},
     "nuid": "18cd66a2-1c75-402c-a310-2c78d0ac6fc5",
     "showTitle": false,
     "title": ""
    }
   },
   "outputs": [],
   "source": [
    "def ansqwer_query(text):\n",
    "    #tablename = \"workspace.default.vehicles_small_100\"\n",
    "    tablename = \"workspace.default.vehicles\"\n",
    "    response = generate_sql_statement(text, tablename)\n",
    "    sql = process_response(response).lower()\n",
    "    #print(sql)\n",
    "    return generate_explanation_from_sql(sql)"
   ]
  },
  {
   "cell_type": "code",
   "execution_count": 0,
   "metadata": {
    "application/vnd.databricks.v1+cell": {
     "cellMetadata": {
      "byteLimit": 2048000,
      "rowLimit": 10000
     },
     "inputWidgets": {},
     "nuid": "7aebe2b7-7528-4675-9754-872ff9600a2b",
     "showTitle": false,
     "title": ""
    }
   },
   "outputs": [
    {
     "output_type": "execute_result",
     "data": {
      "text/plain": [
       "'The following is the top found matching result: Manufacturer: Honda, Model: Civic LX Sedan, ID: 7316067403'"
      ]
     },
     "execution_count": 27,
     "metadata": {},
     "output_type": "execute_result"
    }
   ],
   "source": [
    "ansqwer_query(\"give ids and makes for the the honda with price 5000 and above\")"
   ]
  },
  {
   "cell_type": "code",
   "execution_count": 0,
   "metadata": {
    "application/vnd.databricks.v1+cell": {
     "cellMetadata": {
      "byteLimit": 2048000,
      "implicitDf": true,
      "rowLimit": 10000
     },
     "inputWidgets": {},
     "nuid": "f4014755-629e-47ad-a811-af1677f4ec3e",
     "showTitle": false,
     "title": ""
    }
   },
   "outputs": [
    {
     "output_type": "display_data",
     "data": {
      "text/html": [
       "<style scoped>\n",
       "  .table-result-container {\n",
       "    max-height: 300px;\n",
       "    overflow: auto;\n",
       "  }\n",
       "  table, th, td {\n",
       "    border: 1px solid black;\n",
       "    border-collapse: collapse;\n",
       "  }\n",
       "  th, td {\n",
       "    padding: 5px;\n",
       "  }\n",
       "  th {\n",
       "    text-align: left;\n",
       "  }\n",
       "</style><div class='table-result-container'><table class='table-result'><thead style='background-color: white'><tr><th>id</th><th>url</th><th>region</th><th>region_url</th><th>price</th><th>year</th><th>manufacturer</th><th>model</th><th>condition</th><th>cylinders</th><th>fuel</th><th>odometer</th><th>title_status</th><th>transmission</th><th>VIN</th><th>drive</th><th>size</th><th>type</th><th>paint_color</th><th>image_url</th><th>description</th><th>county</th><th>state</th><th>lat</th><th>long</th><th>posting_date</th></tr></thead><tbody></tbody></table></div>"
      ]
     },
     "metadata": {
      "application/vnd.databricks.v1+output": {
       "addedWidgets": {},
       "aggData": [],
       "aggError": "",
       "aggOverflow": false,
       "aggSchema": [],
       "aggSeriesLimitReached": false,
       "aggType": "",
       "arguments": {},
       "columnCustomDisplayInfos": {},
       "data": [],
       "datasetInfos": [
        {
         "name": "_sqldf",
         "schema": {
          "fields": [
           {
            "metadata": {},
            "name": "id",
            "nullable": true,
            "type": "long"
           },
           {
            "metadata": {},
            "name": "url",
            "nullable": true,
            "type": "string"
           },
           {
            "metadata": {},
            "name": "region",
            "nullable": true,
            "type": "string"
           },
           {
            "metadata": {},
            "name": "region_url",
            "nullable": true,
            "type": "string"
           },
           {
            "metadata": {},
            "name": "price",
            "nullable": true,
            "type": "long"
           },
           {
            "metadata": {},
            "name": "year",
            "nullable": true,
            "type": "long"
           },
           {
            "metadata": {},
            "name": "manufacturer",
            "nullable": true,
            "type": "string"
           },
           {
            "metadata": {},
            "name": "model",
            "nullable": true,
            "type": "string"
           },
           {
            "metadata": {},
            "name": "condition",
            "nullable": true,
            "type": "string"
           },
           {
            "metadata": {},
            "name": "cylinders",
            "nullable": true,
            "type": "string"
           },
           {
            "metadata": {},
            "name": "fuel",
            "nullable": true,
            "type": "string"
           },
           {
            "metadata": {},
            "name": "odometer",
            "nullable": true,
            "type": "long"
           },
           {
            "metadata": {},
            "name": "title_status",
            "nullable": true,
            "type": "string"
           },
           {
            "metadata": {},
            "name": "transmission",
            "nullable": true,
            "type": "string"
           },
           {
            "metadata": {},
            "name": "VIN",
            "nullable": true,
            "type": "string"
           },
           {
            "metadata": {},
            "name": "drive",
            "nullable": true,
            "type": "string"
           },
           {
            "metadata": {},
            "name": "size",
            "nullable": true,
            "type": "string"
           },
           {
            "metadata": {},
            "name": "type",
            "nullable": true,
            "type": "string"
           },
           {
            "metadata": {},
            "name": "paint_color",
            "nullable": true,
            "type": "string"
           },
           {
            "metadata": {},
            "name": "image_url",
            "nullable": true,
            "type": "string"
           },
           {
            "metadata": {},
            "name": "description",
            "nullable": true,
            "type": "string"
           },
           {
            "metadata": {},
            "name": "county",
            "nullable": true,
            "type": "string"
           },
           {
            "metadata": {},
            "name": "state",
            "nullable": true,
            "type": "string"
           },
           {
            "metadata": {},
            "name": "lat",
            "nullable": true,
            "type": "double"
           },
           {
            "metadata": {},
            "name": "long",
            "nullable": true,
            "type": "double"
           },
           {
            "metadata": {},
            "name": "posting_date",
            "nullable": true,
            "type": "timestamp"
           }
          ],
          "type": "struct"
         },
         "tableIdentifier": null,
         "typeStr": "pyspark.sql.connect.dataframe.DataFrame"
        }
       ],
       "dbfsResultPath": null,
       "isJsonSchema": true,
       "metadata": {
        "dataframeName": "_sqldf",
        "executionCount": 205
       },
       "overflow": false,
       "plotOptions": {
        "customPlotOptions": {},
        "displayType": "table",
        "pivotAggregation": null,
        "pivotColumns": null,
        "xColumns": null,
        "yColumns": null
       },
       "removedWidgets": [],
       "schema": [
        {
         "metadata": "{}",
         "name": "id",
         "type": "\"long\""
        },
        {
         "metadata": "{}",
         "name": "url",
         "type": "\"string\""
        },
        {
         "metadata": "{}",
         "name": "region",
         "type": "\"string\""
        },
        {
         "metadata": "{}",
         "name": "region_url",
         "type": "\"string\""
        },
        {
         "metadata": "{}",
         "name": "price",
         "type": "\"long\""
        },
        {
         "metadata": "{}",
         "name": "year",
         "type": "\"long\""
        },
        {
         "metadata": "{}",
         "name": "manufacturer",
         "type": "\"string\""
        },
        {
         "metadata": "{}",
         "name": "model",
         "type": "\"string\""
        },
        {
         "metadata": "{}",
         "name": "condition",
         "type": "\"string\""
        },
        {
         "metadata": "{}",
         "name": "cylinders",
         "type": "\"string\""
        },
        {
         "metadata": "{}",
         "name": "fuel",
         "type": "\"string\""
        },
        {
         "metadata": "{}",
         "name": "odometer",
         "type": "\"long\""
        },
        {
         "metadata": "{}",
         "name": "title_status",
         "type": "\"string\""
        },
        {
         "metadata": "{}",
         "name": "transmission",
         "type": "\"string\""
        },
        {
         "metadata": "{}",
         "name": "VIN",
         "type": "\"string\""
        },
        {
         "metadata": "{}",
         "name": "drive",
         "type": "\"string\""
        },
        {
         "metadata": "{}",
         "name": "size",
         "type": "\"string\""
        },
        {
         "metadata": "{}",
         "name": "type",
         "type": "\"string\""
        },
        {
         "metadata": "{}",
         "name": "paint_color",
         "type": "\"string\""
        },
        {
         "metadata": "{}",
         "name": "image_url",
         "type": "\"string\""
        },
        {
         "metadata": "{}",
         "name": "description",
         "type": "\"string\""
        },
        {
         "metadata": "{}",
         "name": "county",
         "type": "\"string\""
        },
        {
         "metadata": "{}",
         "name": "state",
         "type": "\"string\""
        },
        {
         "metadata": "{}",
         "name": "lat",
         "type": "\"double\""
        },
        {
         "metadata": "{}",
         "name": "long",
         "type": "\"double\""
        },
        {
         "metadata": "{}",
         "name": "posting_date",
         "type": "\"timestamp\""
        }
       ],
       "type": "table"
      }
     },
     "output_type": "display_data"
    }
   ],
   "source": [
    "%sql\n",
    "SELECT * FROM workspace.default.vehicles WHERE manufacturer = 'tes' AND price >= 5000"
   ]
  },
  {
   "cell_type": "code",
   "execution_count": 0,
   "metadata": {
    "application/vnd.databricks.v1+cell": {
     "cellMetadata": {},
     "inputWidgets": {},
     "nuid": "95f3626f-9bbe-4109-82d4-4be8c20300bf",
     "showTitle": false,
     "title": ""
    }
   },
   "outputs": [],
   "source": []
  }
 ],
 "metadata": {
  "application/vnd.databricks.v1+notebook": {
   "dashboards": [],
   "environmentMetadata": null,
   "language": "python",
   "notebookMetadata": {
    "mostRecentlyExecutedCommandWithImplicitDF": {
     "commandId": 3704230746354648,
     "dataframes": [
      "_sqldf"
     ]
    },
    "pythonIndentUnit": 4
   },
   "notebookName": "DB Question, Answer",
   "widgets": {}
  }
 },
 "nbformat": 4,
 "nbformat_minor": 0
}
